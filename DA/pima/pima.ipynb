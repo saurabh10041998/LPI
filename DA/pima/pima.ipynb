{
 "cells": [
  {
   "cell_type": "code",
   "execution_count": 6,
   "metadata": {},
   "outputs": [
    {
     "data": {
      "text/html": [
       "<div>\n",
       "<style scoped>\n",
       "    .dataframe tbody tr th:only-of-type {\n",
       "        vertical-align: middle;\n",
       "    }\n",
       "\n",
       "    .dataframe tbody tr th {\n",
       "        vertical-align: top;\n",
       "    }\n",
       "\n",
       "    .dataframe thead th {\n",
       "        text-align: right;\n",
       "    }\n",
       "</style>\n",
       "<table border=\"1\" class=\"dataframe\">\n",
       "  <thead>\n",
       "    <tr style=\"text-align: right;\">\n",
       "      <th></th>\n",
       "      <th>Duration</th>\n",
       "      <th>Start date</th>\n",
       "      <th>End date</th>\n",
       "      <th>Start station number</th>\n",
       "      <th>Start station</th>\n",
       "      <th>End station number</th>\n",
       "      <th>End station</th>\n",
       "      <th>Bike number</th>\n",
       "      <th>Member type</th>\n",
       "    </tr>\n",
       "  </thead>\n",
       "  <tbody>\n",
       "    <tr>\n",
       "      <th>0</th>\n",
       "      <td>679</td>\n",
       "      <td>2018-05-01 00:00:00</td>\n",
       "      <td>2018-05-01 00:11:19</td>\n",
       "      <td>31302</td>\n",
       "      <td>Wisconsin Ave &amp; Newark St NW</td>\n",
       "      <td>31307</td>\n",
       "      <td>3000 Connecticut Ave NW / National Zoo</td>\n",
       "      <td>W22771</td>\n",
       "      <td>Member</td>\n",
       "    </tr>\n",
       "    <tr>\n",
       "      <th>1</th>\n",
       "      <td>578</td>\n",
       "      <td>2018-05-01 00:00:20</td>\n",
       "      <td>2018-05-01 00:09:59</td>\n",
       "      <td>31232</td>\n",
       "      <td>7th &amp; F St NW / National Portrait Gallery</td>\n",
       "      <td>31609</td>\n",
       "      <td>Maine Ave &amp; 7th St SW</td>\n",
       "      <td>W21320</td>\n",
       "      <td>Casual</td>\n",
       "    </tr>\n",
       "    <tr>\n",
       "      <th>2</th>\n",
       "      <td>580</td>\n",
       "      <td>2018-05-01 00:00:28</td>\n",
       "      <td>2018-05-01 00:10:09</td>\n",
       "      <td>31232</td>\n",
       "      <td>7th &amp; F St NW / National Portrait Gallery</td>\n",
       "      <td>31609</td>\n",
       "      <td>Maine Ave &amp; 7th St SW</td>\n",
       "      <td>W20863</td>\n",
       "      <td>Casual</td>\n",
       "    </tr>\n",
       "    <tr>\n",
       "      <th>3</th>\n",
       "      <td>606</td>\n",
       "      <td>2018-05-01 00:01:22</td>\n",
       "      <td>2018-05-01 00:11:29</td>\n",
       "      <td>31104</td>\n",
       "      <td>Adams Mill &amp; Columbia Rd NW</td>\n",
       "      <td>31509</td>\n",
       "      <td>New Jersey Ave &amp; R St NW</td>\n",
       "      <td>W00822</td>\n",
       "      <td>Member</td>\n",
       "    </tr>\n",
       "    <tr>\n",
       "      <th>4</th>\n",
       "      <td>582</td>\n",
       "      <td>2018-05-01 00:04:52</td>\n",
       "      <td>2018-05-01 00:14:34</td>\n",
       "      <td>31129</td>\n",
       "      <td>15th St &amp; Pennsylvania Ave NW/Pershing Park</td>\n",
       "      <td>31118</td>\n",
       "      <td>3rd &amp; Elm St NW</td>\n",
       "      <td>W21846</td>\n",
       "      <td>Member</td>\n",
       "    </tr>\n",
       "  </tbody>\n",
       "</table>\n",
       "</div>"
      ],
      "text/plain": [
       "   Duration           Start date             End date  Start station number  \\\n",
       "0       679  2018-05-01 00:00:00  2018-05-01 00:11:19                 31302   \n",
       "1       578  2018-05-01 00:00:20  2018-05-01 00:09:59                 31232   \n",
       "2       580  2018-05-01 00:00:28  2018-05-01 00:10:09                 31232   \n",
       "3       606  2018-05-01 00:01:22  2018-05-01 00:11:29                 31104   \n",
       "4       582  2018-05-01 00:04:52  2018-05-01 00:14:34                 31129   \n",
       "\n",
       "                                 Start station  End station number  \\\n",
       "0                 Wisconsin Ave & Newark St NW               31307   \n",
       "1    7th & F St NW / National Portrait Gallery               31609   \n",
       "2    7th & F St NW / National Portrait Gallery               31609   \n",
       "3                  Adams Mill & Columbia Rd NW               31509   \n",
       "4  15th St & Pennsylvania Ave NW/Pershing Park               31118   \n",
       "\n",
       "                              End station Bike number Member type  \n",
       "0  3000 Connecticut Ave NW / National Zoo      W22771      Member  \n",
       "1                   Maine Ave & 7th St SW      W21320      Casual  \n",
       "2                   Maine Ave & 7th St SW      W20863      Casual  \n",
       "3                New Jersey Ave & R St NW      W00822      Member  \n",
       "4                         3rd & Elm St NW      W21846      Member  "
      ]
     },
     "execution_count": 6,
     "metadata": {},
     "output_type": "execute_result"
    }
   ],
   "source": [
    "import pandas as pd\n",
    "data = pd.read_csv(\"E:\\\\LP1\\\\DA\\\\pima\\\\dataset\\\\tripdata.csv\")\n",
    "data.head()"
   ]
  },
  {
   "cell_type": "code",
   "execution_count": 7,
   "metadata": {},
   "outputs": [],
   "source": [
    "from sklearn.model_selection import train_test_split\n",
    "trainD, testD = train_test_split(data, test_size = 0.4, random_state = np.random)\n"
   ]
  },
  {
   "cell_type": "code",
   "execution_count": 9,
   "metadata": {},
   "outputs": [
    {
     "data": {
      "text/html": [
       "<div>\n",
       "<style scoped>\n",
       "    .dataframe tbody tr th:only-of-type {\n",
       "        vertical-align: middle;\n",
       "    }\n",
       "\n",
       "    .dataframe tbody tr th {\n",
       "        vertical-align: top;\n",
       "    }\n",
       "\n",
       "    .dataframe thead th {\n",
       "        text-align: right;\n",
       "    }\n",
       "</style>\n",
       "<table border=\"1\" class=\"dataframe\">\n",
       "  <thead>\n",
       "    <tr style=\"text-align: right;\">\n",
       "      <th></th>\n",
       "      <th>Duration</th>\n",
       "      <th>Start date</th>\n",
       "      <th>End date</th>\n",
       "      <th>Start station number</th>\n",
       "      <th>Start station</th>\n",
       "      <th>End station number</th>\n",
       "      <th>End station</th>\n",
       "      <th>Bike number</th>\n",
       "      <th>Member type</th>\n",
       "    </tr>\n",
       "  </thead>\n",
       "  <tbody>\n",
       "    <tr>\n",
       "      <th>311638</th>\n",
       "      <td>383</td>\n",
       "      <td>2018-05-26 20:38:08</td>\n",
       "      <td>2018-05-26 20:44:32</td>\n",
       "      <td>31114</td>\n",
       "      <td>18th St &amp; Wyoming Ave NW</td>\n",
       "      <td>31221</td>\n",
       "      <td>18th &amp; M St NW</td>\n",
       "      <td>W23376</td>\n",
       "      <td>Member</td>\n",
       "    </tr>\n",
       "    <tr>\n",
       "      <th>17731</th>\n",
       "      <td>1070</td>\n",
       "      <td>2018-05-02 09:45:16</td>\n",
       "      <td>2018-05-02 10:03:07</td>\n",
       "      <td>31103</td>\n",
       "      <td>16th &amp; Harvard St NW</td>\n",
       "      <td>31204</td>\n",
       "      <td>20th &amp; E St NW</td>\n",
       "      <td>W00303</td>\n",
       "      <td>Casual</td>\n",
       "    </tr>\n",
       "    <tr>\n",
       "      <th>259681</th>\n",
       "      <td>911</td>\n",
       "      <td>2018-05-23 09:30:39</td>\n",
       "      <td>2018-05-23 09:45:51</td>\n",
       "      <td>31301</td>\n",
       "      <td>Ward Circle / American University</td>\n",
       "      <td>31310</td>\n",
       "      <td>Connecticut &amp; Nebraska Ave NW</td>\n",
       "      <td>W00792</td>\n",
       "      <td>Casual</td>\n",
       "    </tr>\n",
       "    <tr>\n",
       "      <th>33087</th>\n",
       "      <td>233</td>\n",
       "      <td>2018-05-03 12:22:21</td>\n",
       "      <td>2018-05-03 12:26:14</td>\n",
       "      <td>31098</td>\n",
       "      <td>King St Metro North / Cameron St</td>\n",
       "      <td>31044</td>\n",
       "      <td>King St &amp; Patrick St</td>\n",
       "      <td>W20319</td>\n",
       "      <td>Member</td>\n",
       "    </tr>\n",
       "    <tr>\n",
       "      <th>320986</th>\n",
       "      <td>1606</td>\n",
       "      <td>2018-05-27 15:28:51</td>\n",
       "      <td>2018-05-27 15:55:37</td>\n",
       "      <td>31200</td>\n",
       "      <td>Massachusetts Ave &amp; Dupont Circle NW</td>\n",
       "      <td>31031</td>\n",
       "      <td>15th &amp; N Scott St</td>\n",
       "      <td>W21006</td>\n",
       "      <td>Member</td>\n",
       "    </tr>\n",
       "  </tbody>\n",
       "</table>\n",
       "</div>"
      ],
      "text/plain": [
       "        Duration           Start date             End date  \\\n",
       "311638       383  2018-05-26 20:38:08  2018-05-26 20:44:32   \n",
       "17731       1070  2018-05-02 09:45:16  2018-05-02 10:03:07   \n",
       "259681       911  2018-05-23 09:30:39  2018-05-23 09:45:51   \n",
       "33087        233  2018-05-03 12:22:21  2018-05-03 12:26:14   \n",
       "320986      1606  2018-05-27 15:28:51  2018-05-27 15:55:37   \n",
       "\n",
       "        Start station number                         Start station  \\\n",
       "311638                 31114              18th St & Wyoming Ave NW   \n",
       "17731                  31103                  16th & Harvard St NW   \n",
       "259681                 31301     Ward Circle / American University   \n",
       "33087                  31098      King St Metro North / Cameron St   \n",
       "320986                 31200  Massachusetts Ave & Dupont Circle NW   \n",
       "\n",
       "        End station number                    End station Bike number  \\\n",
       "311638               31221                 18th & M St NW      W23376   \n",
       "17731                31204                 20th & E St NW      W00303   \n",
       "259681               31310  Connecticut & Nebraska Ave NW      W00792   \n",
       "33087                31044           King St & Patrick St      W20319   \n",
       "320986               31031              15th & N Scott St      W21006   \n",
       "\n",
       "       Member type  \n",
       "311638      Member  \n",
       "17731       Casual  \n",
       "259681      Casual  \n",
       "33087       Member  \n",
       "320986      Member  "
      ]
     },
     "execution_count": 9,
     "metadata": {},
     "output_type": "execute_result"
    }
   ],
   "source": [
    "trainD.head()"
   ]
  },
  {
   "cell_type": "code",
   "execution_count": 10,
   "metadata": {},
   "outputs": [],
   "source": [
    "data = data[:2000]"
   ]
  },
  {
   "cell_type": "code",
   "execution_count": 11,
   "metadata": {},
   "outputs": [
    {
     "data": {
      "text/plain": [
       "2000"
      ]
     },
     "execution_count": 11,
     "metadata": {},
     "output_type": "execute_result"
    }
   ],
   "source": [
    "len(data)"
   ]
  },
  {
   "cell_type": "code",
   "execution_count": 20,
   "metadata": {},
   "outputs": [],
   "source": [
    "from datetime import datetime\n",
    "import operator\n",
    "import math"
   ]
  },
  {
   "cell_type": "code",
   "execution_count": 18,
   "metadata": {},
   "outputs": [
    {
     "data": {
      "text/plain": [
       "[[679, 679.0, 31302, 31307, 'Member'],\n",
       " [578, 579.0, 31232, 31609, 'Casual'],\n",
       " [580, 581.0, 31232, 31609, 'Casual'],\n",
       " [606, 607.0, 31104, 31509, 'Member'],\n",
       " [582, 582.0, 31129, 31118, 'Member'],\n",
       " [175, 175.0, 31104, 31117, 'Member']]"
      ]
     },
     "execution_count": 18,
     "metadata": {},
     "output_type": "execute_result"
    }
   ],
   "source": [
    "def clean_data(dataset):\n",
    "    new_dataset = []\n",
    "    for i in range(len(dataset)):\n",
    "        new_row = []\n",
    "        row = dataset[i]\n",
    "        new_row.append(row[0])\n",
    "        start_time = datetime.strptime(row[1], '%Y-%m-%d %H:%M:%S')\n",
    "        end_time = datetime.strptime(row[2], '%Y-%m-%d %H:%M:%S')\n",
    "        trip_time = end_time.timestamp() - start_time.timestamp()\n",
    "        new_row.append(trip_time)\n",
    "        new_row.append(row[3])\n",
    "        new_row .append(row[5])\n",
    "        new_row.append(row[8])\n",
    "        new_dataset.append(new_row)\n",
    "    return new_dataset\n",
    "\n",
    "new_dataset = clean_data(data.values.tolist())\n",
    "new_dataset[:6]\n",
    "        "
   ]
  },
  {
   "cell_type": "code",
   "execution_count": 19,
   "metadata": {},
   "outputs": [],
   "source": [
    "trainD, testD = train_test_split(data, test_size = 0.35)"
   ]
  },
  {
   "cell_type": "code",
   "execution_count": null,
   "metadata": {},
   "outputs": [],
   "source": [
    "def e_dist(inst1, inst2, length):\n",
    "    dist = 0.0\n",
    "    for i in range(len(length)):\n",
    "        dist += pow((float(inst1[i]) - float(inst2[i])), 2)\n",
    "    return math.sqrt(dist)\n",
    "\n",
    "def getNeighbour(trainset, test, K):\n",
    "    distance = []\n",
    "    fo"
   ]
  }
 ],
 "metadata": {
  "kernelspec": {
   "display_name": "Python 3",
   "language": "python",
   "name": "python3"
  },
  "language_info": {
   "codemirror_mode": {
    "name": "ipython",
    "version": 3
   },
   "file_extension": ".py",
   "mimetype": "text/x-python",
   "name": "python",
   "nbconvert_exporter": "python",
   "pygments_lexer": "ipython3",
   "version": "3.7.1"
  }
 },
 "nbformat": 4,
 "nbformat_minor": 2
}
